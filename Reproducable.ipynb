{
 "cells": [
  {
   "cell_type": "code",
   "execution_count": 31,
   "metadata": {},
   "outputs": [],
   "source": [
    "%matplotlib inline\n",
    "import warnings\n",
    "warnings.filterwarnings('ignore')\n",
    "import numpy as np\n",
    "import pandas as pd\n",
    "import seaborn as sb\n",
    "import lightgbm as lgb\n",
    "import math\n",
    "import matplotlib.pyplot as plt\n",
    "# from sklearn import model_selection\n",
    "from sklearn.model_selection import train_test_split, StratifiedKFold\n",
    "from sklearn.metrics import roc_auc_score"
   ]
  },
  {
   "cell_type": "code",
   "execution_count": 22,
   "metadata": {},
   "outputs": [],
   "source": [
    "train_data = pd.read_csv(\"train_small.csv\", header=None)"
   ]
  },
  {
   "cell_type": "code",
   "execution_count": 23,
   "metadata": {},
   "outputs": [],
   "source": [
    "test_data = pd.read_csv(\"test_small.csv\")"
   ]
  },
  {
   "cell_type": "code",
   "execution_count": 24,
   "metadata": {},
   "outputs": [],
   "source": [
    "# parameters are from grid search and experimentation\n",
    "param = {\n",
    "    'bagging_freq': 4, # seems to work\n",
    "    'bagging_fraction': 0.5, # seems to work\n",
    "    'boost_from_average':'false',\n",
    "    'boost': 'gbdt',\n",
    "    'feature_fraction': 0.1, # from grid search and seems to work\n",
    "    'learning_rate': 0.01,\n",
    "    'max_depth': -1, # a lot of data, limits overfitting in other ways\n",
    "    'metric':'auc', \n",
    "    'min_data_in_leaf': 50, # limit overfitting\n",
    "    'min_sum_hessian_in_leaf': 5, # limit overfitting\n",
    "    'num_leaves': 15, # limit overfitting\n",
    "    'num_threads': 8,\n",
    "    'tree_learner': 'serial',\n",
    "    'objective': 'binary',\n",
    "    'verbosity': 1\n",
    "}"
   ]
  },
  {
   "cell_type": "code",
   "execution_count": 32,
   "metadata": {},
   "outputs": [
    {
     "name": "stdout",
     "output_type": "stream",
     "text": [
      "Training until validation scores don't improve for 3000 rounds.\n",
      "[1000]\ttraining's auc: 0.947417\tvalid_1's auc: 0.873757\n",
      "[2000]\ttraining's auc: 0.970914\tvalid_1's auc: 0.883702\n",
      "[3000]\ttraining's auc: 0.983563\tvalid_1's auc: 0.886764\n",
      "[4000]\ttraining's auc: 0.99124\tvalid_1's auc: 0.888399\n",
      "[5000]\ttraining's auc: 0.995745\tvalid_1's auc: 0.888479\n",
      "[6000]\ttraining's auc: 0.998183\tvalid_1's auc: 0.888153\n",
      "[7000]\ttraining's auc: 0.999346\tvalid_1's auc: 0.887713\n",
      "[8000]\ttraining's auc: 0.999801\tvalid_1's auc: 0.887247\n",
      "Early stopping, best iteration is:\n",
      "[5283]\ttraining's auc: 0.996551\tvalid_1's auc: 0.888587\n",
      "Training until validation scores don't improve for 3000 rounds.\n",
      "[1000]\ttraining's auc: 0.944326\tvalid_1's auc: 0.874402\n",
      "[2000]\ttraining's auc: 0.969547\tvalid_1's auc: 0.886478\n",
      "[3000]\ttraining's auc: 0.983206\tvalid_1's auc: 0.88977\n",
      "[4000]\ttraining's auc: 0.99131\tvalid_1's auc: 0.89105\n",
      "[5000]\ttraining's auc: 0.995977\tvalid_1's auc: 0.89143\n",
      "[6000]\ttraining's auc: 0.998347\tvalid_1's auc: 0.891611\n",
      "[7000]\ttraining's auc: 0.999432\tvalid_1's auc: 0.891306\n",
      "[8000]\ttraining's auc: 0.999841\tvalid_1's auc: 0.890853\n",
      "[9000]\ttraining's auc: 0.999967\tvalid_1's auc: 0.890798\n",
      "Early stopping, best iteration is:\n",
      "[6178]\ttraining's auc: 0.998627\tvalid_1's auc: 0.891671\n",
      "0.7197365380527642\n",
      "0.03030043531006922\n"
     ]
    }
   ],
   "source": [
    "# get train and test feature names\n",
    "features = [c for c in train.columns if c not in [0, 1]]\n",
    "test_features = [c for c in test.columns if c not in ['ID_code']]\n",
    "\n",
    "test_predictions = np.zeros(len(test))\n",
    "train_predictions = np.zeros(len(train))\n",
    "# get target and training data\n",
    "target = train_data[1]\n",
    "train = train_data[features]\n",
    "\n",
    "# using 10\n",
    "splits = 10\n",
    "skf = StratifiedKFold(n_splits=splits, shuffle=False)\n",
    "skf.get_n_splits(train, target)\n",
    "\n",
    "# using lightbm over catboost because no categorical features\n",
    "# using lightbm over xgboost because it's faster\n",
    "# train one lightbm for every fold, and sum up the predictions made by all folds on the test data set\n",
    "for train_index, val_index in skf.split(train, target):\n",
    "    train_fold = lgb.Dataset(train.iloc[train_index][features], label=target.iloc[train_index])\n",
    "    val_fold = lgb.Dataset(train.iloc[val_index][features], label=target.iloc[val_index])\n",
    "    clf = lgb.train(param, train_fold, 100000, valid_sets = [train_fold, val_fold], verbose_eval=1000, early_stopping_rounds = 3000)\n",
    "    \n",
    "    test_predictions += clf.predict(test[test_features], num_iteration=clf.best_iteration) / splits\n",
    "    train_predictions += clf.predict(train[features], num_iterations=clf.best_iteration) / splits"
   ]
  },
  {
   "cell_type": "code",
   "execution_count": 33,
   "metadata": {},
   "outputs": [
    {
     "name": "stdout",
     "output_type": "stream",
     "text": [
      "0.7197365380527642\n",
      "0.03030043531006922\n"
     ]
    }
   ],
   "source": [
    "# print some information to get an idea of how well it worked\n",
    "train_predictions = list(map(lambda x : math.floor(x+0.5), train_predictions))\n",
    "print(roc_auc_score(target.values, train_predictions))\n",
    "\n",
    "test_predictions = list(map(lambda x : math.floor(x+0.5), test_predictions))\n",
    "print(sum(test_predictions)/len(test_predictions))"
   ]
  },
  {
   "cell_type": "code",
   "execution_count": 35,
   "metadata": {},
   "outputs": [],
   "source": [
    "# save test predictions to csv file with no headers\n",
    "submission_df = pd.DataFrame(test_predictions)\n",
    "submission_df.to_csv(\"submission.csv\", encoding='utf-8', index=False)"
   ]
  }
 ],
 "metadata": {
  "kernelspec": {
   "display_name": "Python 3",
   "language": "python",
   "name": "python3"
  },
  "language_info": {
   "codemirror_mode": {
    "name": "ipython",
    "version": 3
   },
   "file_extension": ".py",
   "mimetype": "text/x-python",
   "name": "python",
   "nbconvert_exporter": "python",
   "pygments_lexer": "ipython3",
   "version": "3.7.3"
  }
 },
 "nbformat": 4,
 "nbformat_minor": 2
}
